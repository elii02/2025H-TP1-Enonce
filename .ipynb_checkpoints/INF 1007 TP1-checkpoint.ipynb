{
 "cells": [
  {
   "cell_type": "code",
   "execution_count": 1,
   "id": "07cba604-a33f-4fd3-97c1-27675914e8f0",
   "metadata": {},
   "outputs": [
    {
     "name": "stdin",
     "output_type": "stream",
     "text": [
      "Entrez le niveau de batterie actuel:  78\n"
     ]
    },
    {
     "name": "stdout",
     "output_type": "stream",
     "text": [
      "Battery level accepted\n",
      "[❚❚❚❚❚❚❚❚  ]\n"
     ]
    }
   ],
   "source": [
    "# Demandez à l'utilisateur d'entrer le niveau de charge actuel de la batterie\n",
    "battery_level = int(input(\"Entrez le niveau de batterie actuel: \"))\n",
    "\n",
    "# Vérifiez si le niveau de charge est valide\n",
    "if battery_level >= 0 and battery_level <= 100:\n",
    "    print(\"Battery level accepted\")\n",
    "else:\n",
    "    print(\"Enter a correct level of battery\")\n",
    "\n",
    "# Arrondir le pourcentage à la dizaine la plus proche\n",
    "battery_level = round(battery_level/10)*10\n",
    "\n",
    "# Calculer le nombre de barres\n",
    "barre = \"❚\"\n",
    "nbr_barres = int(battery_level/10)\n",
    "espace = \" \"\n",
    "nbr_espaces = 10-nbr_barres\n",
    "\n",
    "print(\"[{0}{1}]\".format(nbr_barres*barre, nbr_espaces*espace))\n",
    "\n",
    "# Afficher la représentation graphique de la charge de la batterie\n",
    "\n",
    "# Exemple d'utilisation :\n",
    "# Si l'utilisateur entre 76, la sortie sera :\n",
    "# [❚❚❚❚❚❚❚❚     ]\n",
    "# 76%"
   ]
  },
  {
   "cell_type": "code",
   "execution_count": null,
   "id": "65965c88-c019-4b80-869a-7af24d2259c2",
   "metadata": {},
   "outputs": [],
   "source": []
  }
 ],
 "metadata": {
  "kernelspec": {
   "display_name": "Python 3 (ipykernel)",
   "language": "python",
   "name": "python3"
  },
  "language_info": {
   "codemirror_mode": {
    "name": "ipython",
    "version": 3
   },
   "file_extension": ".py",
   "mimetype": "text/x-python",
   "name": "python",
   "nbconvert_exporter": "python",
   "pygments_lexer": "ipython3",
   "version": "3.12.3"
  }
 },
 "nbformat": 4,
 "nbformat_minor": 5
}
